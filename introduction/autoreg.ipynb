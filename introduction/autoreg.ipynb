{
 "cells": [
  {
   "cell_type": "code",
   "execution_count": 1,
   "id": "65ac3cd5",
   "metadata": {
    "scrolled": true
   },
   "outputs": [],
   "source": [
    "import statsmodels.api as sm\n",
    "import pandas as pd\n",
    "\n",
    "# load data\n",
    "data = pd.read_csv('reg_data.csv')\n",
    "\n",
    "# fit autoregressive model\n",
    "mod = sm.tsa.AutoReg(data.WA_CA, lags=6, missing='drop', trend='c')\n",
    "res = mod.fit()\n",
    "\n",
    "# save estimated parameters\n",
    "param_estmts = res.params\n",
    "\n",
    "# save residuals\n",
    "residuals = res.resid"
   ]
  },
  {
   "cell_type": "code",
   "execution_count": 2,
   "id": "5a885c67",
   "metadata": {},
   "outputs": [
    {
     "data": {
      "text/plain": [
       "const      -0.088012\n",
       "WA_CA.L1    1.643988\n",
       "WA_CA.L2   -1.690501\n",
       "WA_CA.L3    1.653945\n",
       "WA_CA.L4   -1.305902\n",
       "WA_CA.L5    0.980414\n",
       "WA_CA.L6   -0.573509\n",
       "dtype: float64"
      ]
     },
     "execution_count": 2,
     "metadata": {},
     "output_type": "execute_result"
    }
   ],
   "source": [
    "param_estmts"
   ]
  },
  {
   "cell_type": "code",
   "execution_count": 3,
   "id": "5fd8c607",
   "metadata": {},
   "outputs": [
    {
     "data": {
      "text/plain": [
       "6     0.056560\n",
       "7     0.008141\n",
       "8    -0.041526\n",
       "9    -0.033723\n",
       "10    0.017889\n",
       "11   -0.027772\n",
       "12    0.031175\n",
       "13   -0.021574\n",
       "14    0.048917\n",
       "15   -0.021195\n",
       "16   -0.016891\n",
       "dtype: float64"
      ]
     },
     "execution_count": 3,
     "metadata": {},
     "output_type": "execute_result"
    }
   ],
   "source": [
    "residuals"
   ]
  },
  {
   "cell_type": "code",
   "execution_count": null,
   "id": "598993de",
   "metadata": {},
   "outputs": [],
   "source": []
  }
 ],
 "metadata": {
  "kernelspec": {
   "display_name": "Python 3 (ipykernel)",
   "language": "python",
   "name": "python3"
  },
  "language_info": {
   "codemirror_mode": {
    "name": "ipython",
    "version": 3
   },
   "file_extension": ".py",
   "mimetype": "text/x-python",
   "name": "python",
   "nbconvert_exporter": "python",
   "pygments_lexer": "ipython3",
   "version": "3.9.13"
  }
 },
 "nbformat": 4,
 "nbformat_minor": 5
}
